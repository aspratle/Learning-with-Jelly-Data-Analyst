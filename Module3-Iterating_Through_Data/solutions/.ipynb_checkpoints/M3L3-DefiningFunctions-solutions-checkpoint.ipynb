{
 "cells": [
  {
   "cell_type": "markdown",
   "id": "b4cd1bc1",
   "metadata": {
    "slideshow": {
     "slide_type": "slide"
    }
   },
   "source": [
    "<h1><center>Intro to Functions</center></h1>\n",
    "\n",
    "![Func](https://www.programiz.com/sites/tutorial2program/files/function-return-value-python.png)\n",
    "###### [Source: Programviz](https://www.programiz.com/python-programming/function)\n",
    "\n",
    "\n"
   ]
  },
  {
   "cell_type": "markdown",
   "id": "5bbef502",
   "metadata": {
    "slideshow": {
     "slide_type": "slide"
    }
   },
   "source": [
    "## Agenda\n",
    "\n",
    "- Use functions inside a for loop\n",
    "- Know the difference betwwen **built-in** and **user-defined** functions\n",
    "- Know uses of functions"
   ]
  },
  {
   "cell_type": "markdown",
   "id": "e60d316d",
   "metadata": {
    "cell_style": "center",
    "slideshow": {
     "slide_type": "slide"
    }
   },
   "source": [
    "## Function \n",
    "\n",
    "- A block of code that runs when 'called' \n",
    "- **Built-in** functions: built into python on the back \n",
    "    -- type() \n",
    "    -- len() \n",
    "    -- str() \n",
    "- **User-defined** functions:  you create them, takes in parameters, normally starts with the key-word **def**\n"
   ]
  },
  {
   "cell_type": "markdown",
   "id": "49ab5073",
   "metadata": {
    "slideshow": {
     "slide_type": "slide"
    }
   },
   "source": [
    "## Why functions are important...\n",
    "\n",
    "- Used to reduce redundacy of code (DRY -- don't repeat yourself)\n",
    "- Use to create **classes** which in turn can create **packages** (OOP)\n",
    "- **Modularity** -- create a task that can be used to build bigger scripts and can be used over and over again "
   ]
  },
  {
   "cell_type": "markdown",
   "id": "db277f70",
   "metadata": {
    "slideshow": {
     "slide_type": "slide"
    }
   },
   "source": [
    "## Built-In Functions "
   ]
  },
  {
   "cell_type": "code",
   "execution_count": 1,
   "id": "be464a78",
   "metadata": {
    "slideshow": {
     "slide_type": "fragment"
    }
   },
   "outputs": [
    {
     "data": {
      "text/plain": [
       "int"
      ]
     },
     "execution_count": 1,
     "metadata": {},
     "output_type": "execute_result"
    }
   ],
   "source": [
    "#What do the following built-in functions do?\n",
    "x = 3\n",
    "\n",
    "type(x)\n",
    "\n",
    "#tell the data type of a variable"
   ]
  },
  {
   "cell_type": "code",
   "execution_count": 2,
   "id": "c8648a82",
   "metadata": {
    "slideshow": {
     "slide_type": "fragment"
    }
   },
   "outputs": [
    {
     "data": {
      "text/plain": [
       "'30001'"
      ]
     },
     "execution_count": 2,
     "metadata": {},
     "output_type": "execute_result"
    }
   ],
   "source": [
    "x = 30001\n",
    "\n",
    "str(x)\n",
    "\n",
    "#change the variable to a string"
   ]
  },
  {
   "cell_type": "code",
   "execution_count": 3,
   "id": "af270eca",
   "metadata": {
    "slideshow": {
     "slide_type": "fragment"
    }
   },
   "outputs": [
    {
     "data": {
      "text/plain": [
       "3"
      ]
     },
     "execution_count": 3,
     "metadata": {},
     "output_type": "execute_result"
    }
   ],
   "source": [
    "coll = [1, 5, 10]\n",
    "\n",
    "len(coll)\n",
    "\n",
    "#how many items or numbers are in the collection"
   ]
  },
  {
   "cell_type": "markdown",
   "id": "f870c94c",
   "metadata": {
    "slideshow": {
     "slide_type": "slide"
    }
   },
   "source": [
    "## Defined Functions"
   ]
  },
  {
   "cell_type": "code",
   "execution_count": 4,
   "id": "cf1c9032",
   "metadata": {
    "slideshow": {
     "slide_type": "fragment"
    }
   },
   "outputs": [],
   "source": [
    "#Create a defined function that squares a nunber \n",
    "\n",
    "def squares(x):\n",
    "    return x**2\n",
    "\n"
   ]
  },
  {
   "cell_type": "code",
   "execution_count": 5,
   "id": "a968d747",
   "metadata": {
    "slideshow": {
     "slide_type": "fragment"
    }
   },
   "outputs": [
    {
     "data": {
      "text/plain": [
       "9"
      ]
     },
     "execution_count": 5,
     "metadata": {},
     "output_type": "execute_result"
    }
   ],
   "source": [
    "#Call the function to check it\n",
    "\n",
    "squares(3)"
   ]
  },
  {
   "cell_type": "code",
   "execution_count": 6,
   "id": "37aa78f3",
   "metadata": {
    "slideshow": {
     "slide_type": "fragment"
    }
   },
   "outputs": [],
   "source": [
    "#Create a function that concatenates two strings together \n",
    "\n",
    "#Code below\n",
    "\n",
    "def strings(x, y):\n",
    "    return x + y"
   ]
  },
  {
   "cell_type": "code",
   "execution_count": 7,
   "id": "5c4f3ac8",
   "metadata": {
    "slideshow": {
     "slide_type": "fragment"
    }
   },
   "outputs": [
    {
     "data": {
      "text/plain": [
       "'LearningwithJelly'"
      ]
     },
     "execution_count": 7,
     "metadata": {},
     "output_type": "execute_result"
    }
   ],
   "source": [
    "#Call the function \n",
    "\n",
    "strings('Learningwith', 'Jelly')"
   ]
  },
  {
   "cell_type": "markdown",
   "id": "bae3ed67",
   "metadata": {
    "slideshow": {
     "slide_type": "slide"
    }
   },
   "source": [
    "## Summary \n",
    "\n",
    "- Functions are great so you DON'T REPEAT YOURSELF (DRY)\n",
    "- Use python built-in functions if you need to\n",
    "- Defined functions start with the keyword **def**"
   ]
  },
  {
   "cell_type": "markdown",
   "id": "0afd8dcd",
   "metadata": {
    "slideshow": {
     "slide_type": "slide"
    }
   },
   "source": [
    "<h1><center>The End</center></h1>\n",
    "<h2><center>@LearningwithJelly</center></h2>"
   ]
  },
  {
   "cell_type": "code",
   "execution_count": 8,
   "id": "59b2964b",
   "metadata": {
    "slideshow": {
     "slide_type": "skip"
    }
   },
   "outputs": [
    {
     "data": {
      "text/plain": [
       "{'theme': 'white',\n",
       " 'transition': 'fade',\n",
       " 'start_slideshow_at': 'selected',\n",
       " 'autolaunch': False,\n",
       " 'width': '90%',\n",
       " 'height': '110%',\n",
       " 'header': '  <h3>Boolean Data Types</h3>',\n",
       " 'footer': '  <h6>Learning with Jelly</h6>',\n",
       " 'scroll': True,\n",
       " 'enable_chalkboard': True,\n",
       " 'slideNumber': True,\n",
       " 'center': False,\n",
       " 'controlsLayout': 'edges',\n",
       " 'hash': True}"
      ]
     },
     "execution_count": 8,
     "metadata": {},
     "output_type": "execute_result"
    }
   ],
   "source": [
    "from traitlets.config.manager import BaseJSONConfigManager\n",
    "from pathlib import Path\n",
    "path = Path.home() / \".jupyter\" / \"nbconfig\"\n",
    "cm = BaseJSONConfigManager(config_dir=str(path))\n",
    "cm.update(\n",
    "    \"rise\",\n",
    "    {\n",
    "        \"theme\": \"white\",\n",
    "        \"transition\": \"fade\",\n",
    "        \"start_slideshow_at\": \"selected\",\n",
    "        \"footer\": \"  <h6>Learning with Jelly</h6>\",\n",
    "        \"header\": \"  <h3>Boolean Data Types</h3>\",\n",
    "        \"width\":  \"90%\",\n",
    "        \"height\": \"110%\",\n",
    "        \"enable_chalkboard\": True\n",
    "     }\n",
    ")"
   ]
  },
  {
   "cell_type": "code",
   "execution_count": null,
   "id": "9dee31e4",
   "metadata": {},
   "outputs": [],
   "source": []
  }
 ],
 "metadata": {
  "celltoolbar": "Slideshow",
  "kernelspec": {
   "display_name": "Python 3",
   "language": "python",
   "name": "python3"
  },
  "language_info": {
   "codemirror_mode": {
    "name": "ipython",
    "version": 3
   },
   "file_extension": ".py",
   "mimetype": "text/x-python",
   "name": "python",
   "nbconvert_exporter": "python",
   "pygments_lexer": "ipython3",
   "version": "3.8.8"
  }
 },
 "nbformat": 4,
 "nbformat_minor": 5
}
