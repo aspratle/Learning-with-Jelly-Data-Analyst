{
 "cells": [
  {
   "cell_type": "markdown",
   "id": "b4cd1bc1",
   "metadata": {
    "slideshow": {
     "slide_type": "slide"
    }
   },
   "source": [
    "<h1><center>List Comprehensions with Conditions</center></h1>\n",
    "\n",
    "![Func](https://www.freecodecamp.org/news/content/images/2021/07/list-comprehension.png)\n",
    "###### [Source: FreeCodeCamp](https://www.freecodecamp.org/news/list-comprehension-in-python/)\n",
    "\n",
    "\n"
   ]
  },
  {
   "cell_type": "markdown",
   "id": "5bbef502",
   "metadata": {
    "slideshow": {
     "slide_type": "slide"
    }
   },
   "source": [
    "## Agenda\n",
    "\n",
    "- Review what list comprehensions are \n",
    "- Create list comprehensions that include optional conditional statements "
   ]
  },
  {
   "cell_type": "markdown",
   "id": "e60d316d",
   "metadata": {
    "cell_style": "center",
    "slideshow": {
     "slide_type": "slide"
    }
   },
   "source": [
    "## List Comprehensions \n",
    "\n",
    "- List comprehensions are a way to **iterate** or cycle through a list \n",
    "- The goal is to create a **new** list that has done some changes to **each item of an existing list** \n",
    "- Sometimes list comprehensions can be faster than for loops (more on this later)\n",
    "- Think of the syntax as...\n",
    "\n",
    "![Func](https://www.freecodecamp.org/news/content/images/2021/07/list-comprehension.png)\n",
    "###### [Source: FreeCodeCamp](https://www.freecodecamp.org/news/list-comprehension-in-python/)"
   ]
  },
  {
   "cell_type": "markdown",
   "id": "49ab5073",
   "metadata": {
    "slideshow": {
     "slide_type": "slide"
    }
   },
   "source": [
    "## Code them with conditions..."
   ]
  },
  {
   "cell_type": "code",
   "execution_count": 1,
   "id": "be464a78",
   "metadata": {
    "slideshow": {
     "slide_type": "fragment"
    }
   },
   "outputs": [
    {
     "data": {
      "text/plain": [
       "[1920.0, 2520.0]"
      ]
     },
     "execution_count": 1,
     "metadata": {},
     "output_type": "execute_result"
    }
   ],
   "source": [
    "#Create a list comprehension that multiples each value by 6% \n",
    "#only if salary is less than 50k\n",
    "\n",
    "bonus = [72000, 81500, 32000, 42000]\n",
    "\n",
    "[x*0.06 for x in bonus if x < 50000]"
   ]
  },
  {
   "cell_type": "code",
   "execution_count": 11,
   "id": "c7889360",
   "metadata": {
    "slideshow": {
     "slide_type": "fragment"
    }
   },
   "outputs": [
    {
     "data": {
      "text/plain": [
       "['MR.', 'MS.', 'MRS.']"
      ]
     },
     "execution_count": 11,
     "metadata": {},
     "output_type": "execute_result"
    }
   ],
   "source": [
    "#Create a list comprehension the capitalizes the greetings below\n",
    "#only if a period exists in the greeting \n",
    "\n",
    "greetings = ['mr.', 'Ms.', 'mRs.', 'Mister', 'Misses']\n",
    "\n",
    "[word.upper() for word in greetings if '.' in word]"
   ]
  },
  {
   "cell_type": "code",
   "execution_count": 12,
   "id": "3a8b5748",
   "metadata": {
    "slideshow": {
     "slide_type": "fragment"
    }
   },
   "outputs": [
    {
     "data": {
      "text/plain": [
       "[4, 16, 64]"
      ]
     },
     "execution_count": 12,
     "metadata": {},
     "output_type": "execute_result"
    }
   ],
   "source": [
    "#Square each number in the list below \n",
    "#only if the number is even\n",
    "\n",
    "nums = [1, 2, 3, 4, 8]\n",
    "\n",
    "[num**2 for num in nums if num%2==0]"
   ]
  },
  {
   "cell_type": "markdown",
   "id": "bae3ed67",
   "metadata": {
    "slideshow": {
     "slide_type": "slide"
    }
   },
   "source": [
    "## Summary \n",
    "\n",
    "- List comprehensions are a way to change certain values within a list \n",
    "- List comprehensions can be faster than for loops \n",
    "- Follow the syntax"
   ]
  },
  {
   "cell_type": "markdown",
   "id": "0afd8dcd",
   "metadata": {
    "slideshow": {
     "slide_type": "slide"
    }
   },
   "source": [
    "<h1><center>The End</center></h1>\n",
    "<h2><center>@LearningwithJelly</center></h2>"
   ]
  },
  {
   "cell_type": "code",
   "execution_count": null,
   "id": "59b2964b",
   "metadata": {
    "slideshow": {
     "slide_type": "skip"
    }
   },
   "outputs": [],
   "source": [
    "from traitlets.config.manager import BaseJSONConfigManager\n",
    "from pathlib import Path\n",
    "path = Path.home() / \".jupyter\" / \"nbconfig\"\n",
    "cm = BaseJSONConfigManager(config_dir=str(path))\n",
    "cm.update(\n",
    "    \"rise\",\n",
    "    {\n",
    "        \"theme\": \"white\",\n",
    "        \"transition\": \"fade\",\n",
    "        \"start_slideshow_at\": \"selected\",\n",
    "        \"footer\": \"  <h6>Learning with Jelly</h6>\",\n",
    "        \"header\": \"  <h3>Boolean Data Types</h3>\",\n",
    "        \"width\":  \"90%\",\n",
    "        \"height\": \"110%\",\n",
    "        \"enable_chalkboard\": True\n",
    "     }\n",
    ")"
   ]
  },
  {
   "cell_type": "code",
   "execution_count": null,
   "id": "9dee31e4",
   "metadata": {},
   "outputs": [],
   "source": []
  }
 ],
 "metadata": {
  "celltoolbar": "Slideshow",
  "kernelspec": {
   "display_name": "Python 3",
   "language": "python",
   "name": "python3"
  },
  "language_info": {
   "codemirror_mode": {
    "name": "ipython",
    "version": 3
   },
   "file_extension": ".py",
   "mimetype": "text/x-python",
   "name": "python",
   "nbconvert_exporter": "python",
   "pygments_lexer": "ipython3",
   "version": "3.8.8"
  }
 },
 "nbformat": 4,
 "nbformat_minor": 5
}
