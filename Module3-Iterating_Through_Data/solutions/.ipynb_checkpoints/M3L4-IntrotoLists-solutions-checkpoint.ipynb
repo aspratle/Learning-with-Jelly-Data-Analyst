{
 "cells": [
  {
   "cell_type": "markdown",
   "id": "b4cd1bc1",
   "metadata": {
    "slideshow": {
     "slide_type": "slide"
    }
   },
   "source": [
    "<h1><center>Intro to Lists</center></h1>\n",
    "\n",
    "![Func](https://pynative.com/wp-content/uploads/2021/03/python-list.jpg)\n",
    "###### [Source: PYnative](https://pynative.com/python-lists/)\n",
    "\n",
    "\n"
   ]
  },
  {
   "cell_type": "markdown",
   "id": "5bbef502",
   "metadata": {
    "slideshow": {
     "slide_type": "slide"
    }
   },
   "source": [
    "## Agenda\n",
    "\n",
    "- Define Collections in Python \n",
    "- Know the syntax for a list \n",
    "- Create A List"
   ]
  },
  {
   "cell_type": "markdown",
   "id": "e60d316d",
   "metadata": {
    "cell_style": "center",
    "slideshow": {
     "slide_type": "slide"
    }
   },
   "source": [
    "## Collections \n",
    "\n",
    "- Group of items stored in a 'container' and iterable \n",
    "- Strings, Lists, Dictionaries, Tuples, Sets, etc."
   ]
  },
  {
   "cell_type": "markdown",
   "id": "49ab5073",
   "metadata": {
    "slideshow": {
     "slide_type": "slide"
    }
   },
   "source": [
    "## Lists \n",
    "\n",
    "- Surrounded by square brackets **[]**\n",
    "- Mutable (can be changed -- tuples can't)\n",
    "- Ordered\n",
    "- Can contain multiple data types (strings, ints, floats, etc) \n",
    "- Can be indexed (call out a specific item) \n",
    "- Can contain duplicates\n",
    "- Can be difficult to perform mathematical operations (this is where numpy comes into play -- another lesson)"
   ]
  },
  {
   "cell_type": "markdown",
   "id": "db277f70",
   "metadata": {
    "slideshow": {
     "slide_type": "slide"
    }
   },
   "source": [
    "## Create a List"
   ]
  },
  {
   "cell_type": "code",
   "execution_count": 1,
   "id": "be464a78",
   "metadata": {
    "slideshow": {
     "slide_type": "fragment"
    }
   },
   "outputs": [
    {
     "data": {
      "text/plain": [
       "list"
      ]
     },
     "execution_count": 1,
     "metadata": {},
     "output_type": "execute_result"
    }
   ],
   "source": [
    "#List with the same data types \n",
    "\n",
    "list1 = [2, 6, 8]\n",
    "\n",
    "#Check the type \n",
    "type(list1)\n"
   ]
  },
  {
   "cell_type": "code",
   "execution_count": 2,
   "id": "c8648a82",
   "metadata": {
    "slideshow": {
     "slide_type": "fragment"
    }
   },
   "outputs": [
    {
     "data": {
      "text/plain": [
       "list"
      ]
     },
     "execution_count": 2,
     "metadata": {},
     "output_type": "execute_result"
    }
   ],
   "source": [
    "#List with different data types \n",
    "list2 = ['dept', 1009, 'sales', 54000]\n",
    "\n",
    "type(list2)"
   ]
  },
  {
   "cell_type": "code",
   "execution_count": 3,
   "id": "af270eca",
   "metadata": {
    "slideshow": {
     "slide_type": "fragment"
    }
   },
   "outputs": [
    {
     "data": {
      "text/plain": [
       "list"
      ]
     },
     "execution_count": 3,
     "metadata": {},
     "output_type": "execute_result"
    }
   ],
   "source": [
    "#Nested Lists (list of lists)!\n",
    "\n",
    "list3 = [['finance', 26], ['hr', 12], ['ops', 32]]\n",
    "\n",
    "type(list3)"
   ]
  },
  {
   "cell_type": "markdown",
   "id": "bae3ed67",
   "metadata": {
    "slideshow": {
     "slide_type": "slide"
    }
   },
   "source": [
    "## Summary \n",
    "\n",
    "- Lists are collections and iterable \n",
    "- Lists can contain multiple different data types in a single list\n",
    "- Lists can also exist as nested structures "
   ]
  },
  {
   "cell_type": "markdown",
   "id": "0afd8dcd",
   "metadata": {
    "slideshow": {
     "slide_type": "slide"
    }
   },
   "source": [
    "<h1><center>The End</center></h1>\n",
    "<h2><center>@LearningwithJelly</center></h2>"
   ]
  },
  {
   "cell_type": "code",
   "execution_count": null,
   "id": "59b2964b",
   "metadata": {
    "slideshow": {
     "slide_type": "skip"
    }
   },
   "outputs": [],
   "source": [
    "from traitlets.config.manager import BaseJSONConfigManager\n",
    "from pathlib import Path\n",
    "path = Path.home() / \".jupyter\" / \"nbconfig\"\n",
    "cm = BaseJSONConfigManager(config_dir=str(path))\n",
    "cm.update(\n",
    "    \"rise\",\n",
    "    {\n",
    "        \"theme\": \"white\",\n",
    "        \"transition\": \"fade\",\n",
    "        \"start_slideshow_at\": \"selected\",\n",
    "        \"footer\": \"  <h6>Learning with Jelly</h6>\",\n",
    "        \"header\": \"  <h3>Boolean Data Types</h3>\",\n",
    "        \"width\":  \"90%\",\n",
    "        \"height\": \"110%\",\n",
    "        \"enable_chalkboard\": True\n",
    "     }\n",
    ")"
   ]
  },
  {
   "cell_type": "code",
   "execution_count": null,
   "id": "9dee31e4",
   "metadata": {},
   "outputs": [],
   "source": []
  }
 ],
 "metadata": {
  "celltoolbar": "Slideshow",
  "kernelspec": {
   "display_name": "Python 3",
   "language": "python",
   "name": "python3"
  },
  "language_info": {
   "codemirror_mode": {
    "name": "ipython",
    "version": 3
   },
   "file_extension": ".py",
   "mimetype": "text/x-python",
   "name": "python",
   "nbconvert_exporter": "python",
   "pygments_lexer": "ipython3",
   "version": "3.8.8"
  }
 },
 "nbformat": 4,
 "nbformat_minor": 5
}
