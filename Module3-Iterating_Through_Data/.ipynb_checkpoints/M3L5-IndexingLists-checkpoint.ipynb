{
 "cells": [
  {
   "cell_type": "markdown",
   "id": "b4cd1bc1",
   "metadata": {
    "slideshow": {
     "slide_type": "slide"
    }
   },
   "source": [
    "<h1><center>Indexing Lists</center></h1>\n",
    "\n",
    "![Func](https://pynative.com/wp-content/uploads/2021/03/python-list.jpg)\n",
    "###### [Source: PYnative](https://pynative.com/python-lists/)\n",
    "\n",
    "\n"
   ]
  },
  {
   "cell_type": "markdown",
   "id": "5bbef502",
   "metadata": {
    "slideshow": {
     "slide_type": "slide"
    }
   },
   "source": [
    "## Agenda\n",
    "\n",
    "- Define Indexing \n",
    "- Index a List\n",
    "- Negative Indexing"
   ]
  },
  {
   "cell_type": "markdown",
   "id": "e60d316d",
   "metadata": {
    "cell_style": "center",
    "slideshow": {
     "slide_type": "slide"
    }
   },
   "source": [
    "## What is Indexing\n",
    "\n",
    "- Grabbing an item or item's position\n",
    "- Useful when wanting to subset a collection or perform methods ('procedures') on certain items (more on this later)"
   ]
  },
  {
   "cell_type": "markdown",
   "id": "49ab5073",
   "metadata": {
    "slideshow": {
     "slide_type": "slide"
    }
   },
   "source": [
    "## Indexing \n",
    "\n",
    "- Indexing Position starts at **zero**, 0\n",
    "- Can index from the beginning or end of a collection \n",
    "- If pulling out a subset it's **up to but not including the last number** this is referred to as slicing"
   ]
  },
  {
   "cell_type": "code",
   "execution_count": null,
   "id": "be464a78",
   "metadata": {
    "slideshow": {
     "slide_type": "fragment"
    }
   },
   "outputs": [],
   "source": [
    "#Pull the second item from the list below\n",
    "\n",
    "lis = [12, 'PC', 52]\n",
    "\n"
   ]
  },
  {
   "cell_type": "code",
   "execution_count": null,
   "id": "35e72772",
   "metadata": {
    "slideshow": {
     "slide_type": "fragment"
    }
   },
   "outputs": [],
   "source": [
    "#Pull the first and second item from the same list \n",
    "\n",
    "lis = [12, 'PC', 52]\n",
    "\n",
    "\n",
    "#Alternative way"
   ]
  },
  {
   "cell_type": "code",
   "execution_count": null,
   "id": "c8648a82",
   "metadata": {
    "slideshow": {
     "slide_type": "fragment"
    }
   },
   "outputs": [],
   "source": [
    "#Pull the last item from the list\n",
    "\n",
    "lis2 = [12, 'PC', 52, 'Mac', 84]\n",
    "\n"
   ]
  },
  {
   "cell_type": "code",
   "execution_count": null,
   "id": "af270eca",
   "metadata": {
    "slideshow": {
     "slide_type": "fragment"
    }
   },
   "outputs": [],
   "source": [
    "#Pull the second to the fifth items \n",
    "\n",
    "lis3 = [12, 'PC', 52, 'Mac', 84, 'Linux', 42]\n",
    "\n"
   ]
  },
  {
   "cell_type": "markdown",
   "id": "bae3ed67",
   "metadata": {
    "slideshow": {
     "slide_type": "slide"
    }
   },
   "source": [
    "## Summary \n",
    "\n",
    "- Lists are collections and can be indexed\n",
    "- Indexing starts at 0\n",
    "- Negative indexing is pulling items from the back of the list"
   ]
  },
  {
   "cell_type": "markdown",
   "id": "0afd8dcd",
   "metadata": {
    "slideshow": {
     "slide_type": "slide"
    }
   },
   "source": [
    "<h1><center>The End</center></h1>\n",
    "<h2><center>@LearningwithJelly</center></h2>"
   ]
  },
  {
   "cell_type": "code",
   "execution_count": 1,
   "id": "59b2964b",
   "metadata": {
    "slideshow": {
     "slide_type": "skip"
    }
   },
   "outputs": [
    {
     "data": {
      "text/plain": [
       "{'theme': 'white',\n",
       " 'transition': 'fade',\n",
       " 'start_slideshow_at': 'selected',\n",
       " 'autolaunch': False,\n",
       " 'width': '90%',\n",
       " 'height': '110%',\n",
       " 'header': '  <h3>Indexing Lists</h3>',\n",
       " 'footer': '  <h6>Learning with Jelly</h6>',\n",
       " 'scroll': True,\n",
       " 'enable_chalkboard': True,\n",
       " 'slideNumber': True,\n",
       " 'center': False,\n",
       " 'controlsLayout': 'edges',\n",
       " 'hash': True}"
      ]
     },
     "execution_count": 1,
     "metadata": {},
     "output_type": "execute_result"
    }
   ],
   "source": [
    "from traitlets.config.manager import BaseJSONConfigManager\n",
    "from pathlib import Path\n",
    "path = Path.home() / \".jupyter\" / \"nbconfig\"\n",
    "cm = BaseJSONConfigManager(config_dir=str(path))\n",
    "cm.update(\n",
    "    \"rise\",\n",
    "    {\n",
    "        \"theme\": \"white\",\n",
    "        \"transition\": \"fade\",\n",
    "        \"start_slideshow_at\": \"selected\",\n",
    "        \"footer\": \"  <h6>Learning with Jelly</h6>\",\n",
    "        \"header\": \"  <h3>Indexing Lists</h3>\",\n",
    "        \"width\":  \"90%\",\n",
    "        \"height\": \"110%\",\n",
    "        \"enable_chalkboard\": True\n",
    "     }\n",
    ")"
   ]
  },
  {
   "cell_type": "code",
   "execution_count": null,
   "id": "9dee31e4",
   "metadata": {},
   "outputs": [],
   "source": []
  }
 ],
 "metadata": {
  "celltoolbar": "Slideshow",
  "kernelspec": {
   "display_name": "Python 3",
   "language": "python",
   "name": "python3"
  },
  "language_info": {
   "codemirror_mode": {
    "name": "ipython",
    "version": 3
   },
   "file_extension": ".py",
   "mimetype": "text/x-python",
   "name": "python",
   "nbconvert_exporter": "python",
   "pygments_lexer": "ipython3",
   "version": "3.8.8"
  }
 },
 "nbformat": 4,
 "nbformat_minor": 5
}
