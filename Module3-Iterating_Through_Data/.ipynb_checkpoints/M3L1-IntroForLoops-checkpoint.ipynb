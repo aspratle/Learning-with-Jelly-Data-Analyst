{
 "cells": [
  {
   "cell_type": "markdown",
   "id": "b4cd1bc1",
   "metadata": {
    "slideshow": {
     "slide_type": "slide"
    }
   },
   "source": [
    "<h1><center>Intro to For Loops</center></h1>\n",
    "\n",
    "![ForLoop](https://media.geeksforgeeks.org/wp-content/uploads/20191101172216/for-loop-python.jpg)\n",
    "###### [Source: GeeksforGeeks](https://media.geeksforgeeks.org/wp-content/uploads/20191101172216/for-loop-python.jpg)\n",
    "\n",
    "\n"
   ]
  },
  {
   "cell_type": "markdown",
   "id": "5bbef502",
   "metadata": {
    "slideshow": {
     "slide_type": "slide"
    }
   },
   "source": [
    "## Agenda\n",
    "\n",
    "- Define a for loop \n",
    "- Discuss why for loops are used in data roles \n",
    "- Know the basic syntax of a for loop \n",
    "- Create a simple for loop "
   ]
  },
  {
   "cell_type": "markdown",
   "id": "e60d316d",
   "metadata": {
    "cell_style": "center",
    "slideshow": {
     "slide_type": "slide"
    }
   },
   "source": [
    "## For Loops...\n",
    "\n",
    "- Iterate over a sequence/collection (string, list, dictionary, etc.) \n",
    "- Used to apply a method to multiple items within a collection \n",
    "- Used in creating functions or to debug code (check for assert errors/unit testing) \n",
    "- Great for reducing code redundancy \n",
    "\n"
   ]
  },
  {
   "cell_type": "markdown",
   "id": "8099f3e5",
   "metadata": {
    "slideshow": {
     "slide_type": "slide"
    }
   },
   "source": [
    "## Basic Syntax \n",
    "\n",
    "![ForSyntax](images/for.png)\n",
    "\n",
    "- Remember the iterable is ANY collection or sequence such as a string, list, dictionary, etc.\n",
    "- **Indentation matters!!**"
   ]
  },
  {
   "cell_type": "markdown",
   "id": "db277f70",
   "metadata": {
    "slideshow": {
     "slide_type": "slide"
    }
   },
   "source": [
    "## Simple For Loops"
   ]
  },
  {
   "cell_type": "code",
   "execution_count": null,
   "id": "be464a78",
   "metadata": {
    "slideshow": {
     "slide_type": "fragment"
    }
   },
   "outputs": [],
   "source": [
    "#Here is our iterable (or collection)\n",
    "nums = [1, 2, 3]\n",
    "\n",
    "#We want to add 2 to each number "
   ]
  },
  {
   "cell_type": "code",
   "execution_count": null,
   "id": "cf1c9032",
   "metadata": {
    "slideshow": {
     "slide_type": "fragment"
    }
   },
   "outputs": [],
   "source": [
    "for num in nums: \n",
    "    print(num + 2)\n"
   ]
  },
  {
   "cell_type": "code",
   "execution_count": null,
   "id": "b6e88913",
   "metadata": {
    "slideshow": {
     "slide_type": "fragment"
    }
   },
   "outputs": [],
   "source": [
    "#Create a for loop that squares each number in the list below \n",
    "\n",
    "digits = [2, 4, 8]\n",
    "\n",
    "#For Loop Below \n",
    "\n"
   ]
  },
  {
   "cell_type": "code",
   "execution_count": null,
   "id": "303984fb",
   "metadata": {
    "slideshow": {
     "slide_type": "fragment"
    }
   },
   "outputs": [],
   "source": [
    "#Here is our sequence \n",
    "\n",
    "name = 'JeLlY'\n",
    "\n",
    "#We want to make it all lowercase \n",
    "for letter in name: \n",
    "    print(letter.lower())"
   ]
  },
  {
   "cell_type": "markdown",
   "id": "bae3ed67",
   "metadata": {
    "slideshow": {
     "slide_type": "slide"
    }
   },
   "source": [
    "## Summary \n",
    "\n",
    "- For loops allow you to iterate through data \n",
    "- Basic syntax is 'for item in iterable' \n",
    "- Great for reducing code redundacy "
   ]
  },
  {
   "cell_type": "markdown",
   "id": "0afd8dcd",
   "metadata": {
    "slideshow": {
     "slide_type": "slide"
    }
   },
   "source": [
    "<h1><center>The End</center></h1>\n",
    "<h2><center>@LearningwithJelly</center></h2>"
   ]
  },
  {
   "cell_type": "code",
   "execution_count": 1,
   "id": "59b2964b",
   "metadata": {
    "slideshow": {
     "slide_type": "skip"
    }
   },
   "outputs": [
    {
     "data": {
      "text/plain": [
       "{'theme': 'white',\n",
       " 'transition': 'fade',\n",
       " 'start_slideshow_at': 'selected',\n",
       " 'autolaunch': False,\n",
       " 'width': '90%',\n",
       " 'height': '110%',\n",
       " 'header': '  <h3>For Loops</h3>',\n",
       " 'footer': '  <h6>Learning with Jelly</h6>',\n",
       " 'scroll': True,\n",
       " 'enable_chalkboard': True,\n",
       " 'slideNumber': True,\n",
       " 'center': False,\n",
       " 'controlsLayout': 'edges',\n",
       " 'hash': True}"
      ]
     },
     "execution_count": 1,
     "metadata": {},
     "output_type": "execute_result"
    }
   ],
   "source": [
    "from traitlets.config.manager import BaseJSONConfigManager\n",
    "from pathlib import Path\n",
    "path = Path.home() / \".jupyter\" / \"nbconfig\"\n",
    "cm = BaseJSONConfigManager(config_dir=str(path))\n",
    "cm.update(\n",
    "    \"rise\",\n",
    "    {\n",
    "        \"theme\": \"white\",\n",
    "        \"transition\": \"fade\",\n",
    "        \"start_slideshow_at\": \"selected\",\n",
    "        \"footer\": \"  <h6>Learning with Jelly</h6>\",\n",
    "        \"header\": \"  <h3>For Loops</h3>\",\n",
    "        \"width\":  \"90%\",\n",
    "        \"height\": \"110%\",\n",
    "        \"enable_chalkboard\": True\n",
    "     }\n",
    ")"
   ]
  },
  {
   "cell_type": "code",
   "execution_count": null,
   "id": "9dee31e4",
   "metadata": {},
   "outputs": [],
   "source": []
  }
 ],
 "metadata": {
  "celltoolbar": "Slideshow",
  "kernelspec": {
   "display_name": "Python 3",
   "language": "python",
   "name": "python3"
  },
  "language_info": {
   "codemirror_mode": {
    "name": "ipython",
    "version": 3
   },
   "file_extension": ".py",
   "mimetype": "text/x-python",
   "name": "python",
   "nbconvert_exporter": "python",
   "pygments_lexer": "ipython3",
   "version": "3.8.8"
  }
 },
 "nbformat": 4,
 "nbformat_minor": 5
}
