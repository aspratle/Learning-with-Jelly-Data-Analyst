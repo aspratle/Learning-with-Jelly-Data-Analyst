{
 "cells": [
  {
   "cell_type": "markdown",
   "id": "b4cd1bc1",
   "metadata": {
    "slideshow": {
     "slide_type": "slide"
    }
   },
   "source": [
    "<h1><center>Concatenating Lists</center></h1>\n",
    "\n",
    "![Func](https://ipcisco.com/wp-content/uploads/2021/12/pyhton-lists-ipcisco-python-programming.jpg)\n",
    "###### [Source: IPCisco](https://ipcisco.com/lesson/python-lists/)\n",
    "\n",
    "\n"
   ]
  },
  {
   "cell_type": "markdown",
   "id": "5bbef502",
   "metadata": {
    "slideshow": {
     "slide_type": "slide"
    }
   },
   "source": [
    "## Agenda\n",
    "\n",
    "- Define Concatenation\n",
    "- Concatenate two list together \n",
    "- Add an item to a list "
   ]
  },
  {
   "cell_type": "markdown",
   "id": "e60d316d",
   "metadata": {
    "cell_style": "center",
    "slideshow": {
     "slide_type": "slide"
    }
   },
   "source": [
    "## What is Concatenation\n",
    "\n",
    "- Concatenation in programming is appending two things together \n",
    "- You can think of it as adding two lists together, in fact you will use the **plus sign (+)** to concatenate\n",
    "- Sometimes concatenation is necessary when you have items stored separately that you need to append together \n"
   ]
  },
  {
   "cell_type": "markdown",
   "id": "49ab5073",
   "metadata": {
    "slideshow": {
     "slide_type": "slide"
    }
   },
   "source": [
    "## Concatenating Lists"
   ]
  },
  {
   "cell_type": "code",
   "execution_count": null,
   "id": "be464a78",
   "metadata": {
    "slideshow": {
     "slide_type": "fragment"
    }
   },
   "outputs": [],
   "source": [
    "lis1 = ['Apple', 52]\n",
    "lis2 = ['Banana', 42]\n",
    "\n",
    "lis1 + lis2\n",
    "\n"
   ]
  },
  {
   "cell_type": "code",
   "execution_count": null,
   "id": "35e72772",
   "metadata": {
    "slideshow": {
     "slide_type": "fragment"
    }
   },
   "outputs": [],
   "source": [
    "#Add 3 to the list below -- notice the output\n",
    "\n",
    "nums = [1, 2, 3]\n",
    "\n",
    "nums + 3\n"
   ]
  },
  {
   "cell_type": "code",
   "execution_count": null,
   "id": "a3bc5eed",
   "metadata": {
    "slideshow": {
     "slide_type": "fragment"
    }
   },
   "outputs": [],
   "source": [
    "#Add a list of 3 to the list -- notice the output\n",
    "\n",
    "nums = [1, 2, 3]\n",
    "\n",
    "nums + [3]"
   ]
  },
  {
   "cell_type": "markdown",
   "id": "c34d2581",
   "metadata": {
    "slideshow": {
     "slide_type": "slide"
    }
   },
   "source": [
    "## Flash Foward -- Adding and Removing Items Using Methods"
   ]
  },
  {
   "cell_type": "code",
   "execution_count": null,
   "id": "af270eca",
   "metadata": {
    "slideshow": {
     "slide_type": "fragment"
    }
   },
   "outputs": [],
   "source": [
    "#Remove Items with .pop() method by calling the position number you want to remove \n",
    "\n",
    "lis = ['Blue', 'Red', 'Green']\n",
    "\n",
    "#Code here"
   ]
  },
  {
   "cell_type": "code",
   "execution_count": null,
   "id": "36417a2a",
   "metadata": {
    "slideshow": {
     "slide_type": "fragment"
    }
   },
   "outputs": [],
   "source": [
    "#Check the list \n",
    "\n",
    "lis"
   ]
  },
  {
   "cell_type": "code",
   "execution_count": null,
   "id": "6b57d7d8",
   "metadata": {
    "slideshow": {
     "slide_type": "fragment"
    }
   },
   "outputs": [],
   "source": [
    "#Add items to the list using .append()\n",
    "\n",
    "lis2 = ['Zebra', 'Monkey', 'Eagle']\n",
    "\n",
    "#Code here"
   ]
  },
  {
   "cell_type": "code",
   "execution_count": null,
   "id": "8d7dd6a8",
   "metadata": {
    "slideshow": {
     "slide_type": "fragment"
    }
   },
   "outputs": [],
   "source": [
    "#Check the list \n",
    "\n",
    "lis2"
   ]
  },
  {
   "cell_type": "markdown",
   "id": "bae3ed67",
   "metadata": {
    "slideshow": {
     "slide_type": "slide"
    }
   },
   "source": [
    "## Summary \n",
    "\n",
    "- Concatenation is 'adding' two objects together \n",
    "- You cannot perform mathematical operations on list \n",
    "- .pop() and .append() methods can remove or add items respectively "
   ]
  },
  {
   "cell_type": "markdown",
   "id": "0afd8dcd",
   "metadata": {
    "slideshow": {
     "slide_type": "slide"
    }
   },
   "source": [
    "<h1><center>The End</center></h1>\n",
    "<h2><center>@LearningwithJelly</center></h2>"
   ]
  },
  {
   "cell_type": "code",
   "execution_count": null,
   "id": "59b2964b",
   "metadata": {
    "slideshow": {
     "slide_type": "skip"
    }
   },
   "outputs": [],
   "source": [
    "from traitlets.config.manager import BaseJSONConfigManager\n",
    "from pathlib import Path\n",
    "path = Path.home() / \".jupyter\" / \"nbconfig\"\n",
    "cm = BaseJSONConfigManager(config_dir=str(path))\n",
    "cm.update(\n",
    "    \"rise\",\n",
    "    {\n",
    "        \"theme\": \"white\",\n",
    "        \"transition\": \"fade\",\n",
    "        \"start_slideshow_at\": \"selected\",\n",
    "        \"footer\": \"  <h6>Learning with Jelly</h6>\",\n",
    "        \"header\": \"  <h3>Boolean Data Types</h3>\",\n",
    "        \"width\":  \"90%\",\n",
    "        \"height\": \"110%\",\n",
    "        \"enable_chalkboard\": True\n",
    "     }\n",
    ")"
   ]
  },
  {
   "cell_type": "code",
   "execution_count": null,
   "id": "9dee31e4",
   "metadata": {},
   "outputs": [],
   "source": []
  }
 ],
 "metadata": {
  "celltoolbar": "Slideshow",
  "kernelspec": {
   "display_name": "Python 3",
   "language": "python",
   "name": "python3"
  },
  "language_info": {
   "codemirror_mode": {
    "name": "ipython",
    "version": 3
   },
   "file_extension": ".py",
   "mimetype": "text/x-python",
   "name": "python",
   "nbconvert_exporter": "python",
   "pygments_lexer": "ipython3",
   "version": "3.8.8"
  }
 },
 "nbformat": 4,
 "nbformat_minor": 5
}
