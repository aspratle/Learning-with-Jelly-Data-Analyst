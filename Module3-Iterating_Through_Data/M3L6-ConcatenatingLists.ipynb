{
 "cells": [
  {
   "cell_type": "markdown",
   "id": "b4cd1bc1",
   "metadata": {
    "slideshow": {
     "slide_type": "slide"
    }
   },
   "source": [
    "<h1><center>Concatenating Lists</center></h1>\n",
    "\n",
    "![Func](https://ipcisco.com/wp-content/uploads/2021/12/pyhton-lists-ipcisco-python-programming.jpg)\n",
    "###### [Source: IPCisco](https://ipcisco.com/lesson/python-lists/)\n",
    "\n",
    "\n"
   ]
  },
  {
   "cell_type": "markdown",
   "id": "5bbef502",
   "metadata": {
    "slideshow": {
     "slide_type": "slide"
    }
   },
   "source": [
    "## Agenda\n",
    "\n",
    "- Define Concatenation\n",
    "- Concatenate two list together \n",
    "- Add an item to a list "
   ]
  },
  {
   "cell_type": "markdown",
   "id": "e60d316d",
   "metadata": {
    "cell_style": "center",
    "slideshow": {
     "slide_type": "slide"
    }
   },
   "source": [
    "## What is Concatenation\n",
    "\n",
    "- Concatenation in programming is appending two things together \n",
    "- You can think of it as adding two lists together, in fact you will use the **plus sign (+)** to concatenate\n",
    "- Sometimes concatenation is necessary when you have items stored separately that you need to append together \n"
   ]
  },
  {
   "cell_type": "markdown",
   "id": "49ab5073",
   "metadata": {
    "slideshow": {
     "slide_type": "slide"
    }
   },
   "source": [
    "## Concatenating Lists"
   ]
  },
  {
   "cell_type": "code",
   "execution_count": 2,
   "id": "be464a78",
   "metadata": {
    "slideshow": {
     "slide_type": "fragment"
    }
   },
   "outputs": [
    {
     "name": "stdout",
     "output_type": "stream",
     "text": [
      "['Apple', 52, 'Banana', 42]\n"
     ]
    }
   ],
   "source": [
    "lis1 = ['Apple', 52]\n",
    "lis2 = ['Banana', 42]\n",
    "\n",
    "lis3 = lis1 + lis2\n",
    "print(lis3)\n",
    "\n"
   ]
  },
  {
   "cell_type": "code",
   "execution_count": 3,
   "id": "35e72772",
   "metadata": {
    "slideshow": {
     "slide_type": "fragment"
    }
   },
   "outputs": [
    {
     "ename": "TypeError",
     "evalue": "can only concatenate list (not \"int\") to list",
     "output_type": "error",
     "traceback": [
      "\u001b[0;31m---------------------------------------------------------------------------\u001b[0m",
      "\u001b[0;31mTypeError\u001b[0m                                 Traceback (most recent call last)",
      "\u001b[0;32m<ipython-input-3-2a4317b23b3c>\u001b[0m in \u001b[0;36m<module>\u001b[0;34m\u001b[0m\n\u001b[1;32m      3\u001b[0m \u001b[0mnums\u001b[0m \u001b[0;34m=\u001b[0m \u001b[0;34m[\u001b[0m\u001b[0;36m1\u001b[0m\u001b[0;34m,\u001b[0m \u001b[0;36m2\u001b[0m\u001b[0;34m,\u001b[0m \u001b[0;36m3\u001b[0m\u001b[0;34m]\u001b[0m\u001b[0;34m\u001b[0m\u001b[0;34m\u001b[0m\u001b[0m\n\u001b[1;32m      4\u001b[0m \u001b[0;34m\u001b[0m\u001b[0m\n\u001b[0;32m----> 5\u001b[0;31m \u001b[0mnums\u001b[0m \u001b[0;34m+\u001b[0m \u001b[0;36m3\u001b[0m\u001b[0;34m\u001b[0m\u001b[0;34m\u001b[0m\u001b[0m\n\u001b[0m",
      "\u001b[0;31mTypeError\u001b[0m: can only concatenate list (not \"int\") to list"
     ]
    }
   ],
   "source": [
    "#Add 3 to the list below -- notice the output\n",
    "\n",
    "nums = [1, 2, 3]\n",
    "\n",
    "nums + 3\n",
    " "
   ]
  },
  {
   "cell_type": "code",
   "execution_count": 4,
   "id": "a3bc5eed",
   "metadata": {
    "slideshow": {
     "slide_type": "fragment"
    }
   },
   "outputs": [
    {
     "data": {
      "text/plain": [
       "[1, 2, 3, 3]"
      ]
     },
     "execution_count": 4,
     "metadata": {},
     "output_type": "execute_result"
    }
   ],
   "source": [
    "#Add a list of 3 to the list -- notice the output\n",
    "\n",
    "nums = [1, 2, 3]\n",
    "\n",
    "nums + [3] `"
   ]
  },
  {
   "cell_type": "markdown",
   "id": "c34d2581",
   "metadata": {
    "slideshow": {
     "slide_type": "slide"
    }
   },
   "source": [
    "## Flash Foward -- Adding and Removing Items Using Methods"
   ]
  },
  {
   "cell_type": "code",
   "execution_count": 5,
   "id": "af270eca",
   "metadata": {
    "slideshow": {
     "slide_type": "fragment"
    }
   },
   "outputs": [
    {
     "data": {
      "text/plain": [
       "'Red'"
      ]
     },
     "execution_count": 5,
     "metadata": {},
     "output_type": "execute_result"
    }
   ],
   "source": [
    "#Remove Items with .pop() method by calling the position number you want to remove \n",
    "\n",
    "lis = ['Blue', 'Red', 'Green']\n",
    "\n",
    "#Code here\n",
    "\n",
    "lis.pop(1)"
   ]
  },
  {
   "cell_type": "code",
   "execution_count": 6,
   "id": "36417a2a",
   "metadata": {
    "slideshow": {
     "slide_type": "fragment"
    }
   },
   "outputs": [
    {
     "data": {
      "text/plain": [
       "['Blue', 'Green']"
      ]
     },
     "execution_count": 6,
     "metadata": {},
     "output_type": "execute_result"
    }
   ],
   "source": [
    "#Check the list \n",
    "\n",
    "lis"
   ]
  },
  {
   "cell_type": "code",
   "execution_count": 7,
   "id": "6b57d7d8",
   "metadata": {
    "slideshow": {
     "slide_type": "fragment"
    }
   },
   "outputs": [],
   "source": [
    "#Add items to the list using .append()\n",
    "\n",
    "lis2 = ['Zebra', 'Monkey', 'Eagle']\n",
    "\n",
    "#Code here\n",
    "\n",
    "lis2.append('Hippo')"
   ]
  },
  {
   "cell_type": "code",
   "execution_count": 8,
   "id": "8d7dd6a8",
   "metadata": {
    "slideshow": {
     "slide_type": "fragment"
    }
   },
   "outputs": [
    {
     "data": {
      "text/plain": [
       "['Zebra', 'Monkey', 'Eagle', 'Hippo']"
      ]
     },
     "execution_count": 8,
     "metadata": {},
     "output_type": "execute_result"
    }
   ],
   "source": [
    "#Check the list \n",
    "\n",
    "lis2"
   ]
  },
  {
   "cell_type": "markdown",
   "id": "bae3ed67",
   "metadata": {
    "slideshow": {
     "slide_type": "slide"
    }
   },
   "source": [
    "## Summary \n",
    "\n",
    "- Concatenation is 'adding' two objects together \n",
    "- You cannot perform mathematical operations on list \n",
    "- .pop() and .append() methods can remove or add items respectively "
   ]
  },
  {
   "cell_type": "markdown",
   "id": "0afd8dcd",
   "metadata": {
    "slideshow": {
     "slide_type": "slide"
    }
   },
   "source": [
    "<h1><center>The End</center></h1>\n",
    "<h2><center>@LearningwithJelly</center></h2>"
   ]
  },
  {
   "cell_type": "code",
   "execution_count": 1,
   "id": "59b2964b",
   "metadata": {
    "slideshow": {
     "slide_type": "skip"
    }
   },
   "outputs": [
    {
     "data": {
      "text/plain": [
       "{'theme': 'white',\n",
       " 'transition': 'fade',\n",
       " 'start_slideshow_at': 'selected',\n",
       " 'autolaunch': False,\n",
       " 'width': '90%',\n",
       " 'height': '110%',\n",
       " 'header': '  <h3>Lists</h3>',\n",
       " 'footer': '  <h6>Learning with Jelly</h6>',\n",
       " 'scroll': True,\n",
       " 'enable_chalkboard': True,\n",
       " 'slideNumber': True,\n",
       " 'center': False,\n",
       " 'controlsLayout': 'edges',\n",
       " 'hash': True}"
      ]
     },
     "execution_count": 1,
     "metadata": {},
     "output_type": "execute_result"
    }
   ],
   "source": [
    "from traitlets.config.manager import BaseJSONConfigManager\n",
    "from pathlib import Path\n",
    "path = Path.home() / \".jupyter\" / \"nbconfig\"\n",
    "cm = BaseJSONConfigManager(config_dir=str(path))\n",
    "cm.update(\n",
    "    \"rise\",\n",
    "    {\n",
    "        \"theme\": \"white\",\n",
    "        \"transition\": \"fade\",\n",
    "        \"start_slideshow_at\": \"selected\",\n",
    "        \"footer\": \"  <h6>Learning with Jelly</h6>\",\n",
    "        \"header\": \"  <h3>Lists</h3>\",\n",
    "        \"width\":  \"90%\",\n",
    "        \"height\": \"110%\",\n",
    "        \"enable_chalkboard\": True\n",
    "     }\n",
    ")"
   ]
  },
  {
   "cell_type": "code",
   "execution_count": null,
   "id": "9dee31e4",
   "metadata": {},
   "outputs": [],
   "source": []
  }
 ],
 "metadata": {
  "celltoolbar": "Slideshow",
  "kernelspec": {
   "display_name": "Python 3",
   "language": "python",
   "name": "python3"
  },
  "language_info": {
   "codemirror_mode": {
    "name": "ipython",
    "version": 3
   },
   "file_extension": ".py",
   "mimetype": "text/x-python",
   "name": "python",
   "nbconvert_exporter": "python",
   "pygments_lexer": "ipython3",
   "version": "3.8.8"
  }
 },
 "nbformat": 4,
 "nbformat_minor": 5
}
