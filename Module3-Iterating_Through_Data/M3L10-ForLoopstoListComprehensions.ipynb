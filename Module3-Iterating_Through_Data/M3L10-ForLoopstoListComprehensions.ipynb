{
 "cells": [
  {
   "cell_type": "markdown",
   "id": "b4cd1bc1",
   "metadata": {
    "slideshow": {
     "slide_type": "slide"
    }
   },
   "source": [
    "<h1><center>For Loops to List Comprehensions</center></h1>\n",
    "\n",
    "![Func](https://www.freecodecamp.org/news/content/images/2021/07/list-comprehension.png)\n",
    "###### [Source: FreeCodeCamp](https://www.freecodecamp.org/news/list-comprehension-in-python/)\n",
    "\n",
    "\n"
   ]
  },
  {
   "cell_type": "markdown",
   "id": "5bbef502",
   "metadata": {
    "slideshow": {
     "slide_type": "slide"
    }
   },
   "source": [
    "## Agenda\n",
    "\n",
    "- Take for loops and create the same output using list comprehensions  "
   ]
  },
  {
   "cell_type": "markdown",
   "id": "e60d316d",
   "metadata": {
    "cell_style": "center",
    "slideshow": {
     "slide_type": "slide"
    }
   },
   "source": [
    "## For Loops vs. List Comprehensions \n",
    "\n",
    "- List Comprehensions are mostly faster than for loops \n",
    "- List Comprehensions can be stored as another object for you to call on later \n",
    "- List Comprehensions can make your code easier to read "
   ]
  },
  {
   "cell_type": "markdown",
   "id": "49ab5073",
   "metadata": {
    "slideshow": {
     "slide_type": "slide"
    }
   },
   "source": [
    "## Change the following loops to List Comprehensions"
   ]
  },
  {
   "cell_type": "code",
   "execution_count": 1,
   "id": "be464a78",
   "metadata": {
    "slideshow": {
     "slide_type": "fragment"
    }
   },
   "outputs": [
    {
     "name": "stdout",
     "output_type": "stream",
     "text": [
      "[4320.0, 4890.0, 1920.0, 2520.0]\n"
     ]
    }
   ],
   "source": [
    "#For loop appends bonus amount to a new list\n",
    "\n",
    "salaries = [72000, 81500, 32000, 42000]\n",
    "\n",
    "bonus = [] #Initialize an empty list to store the results \n",
    "\n",
    "for sal in salaries: \n",
    "    bonus.append(sal*0.06)\n",
    "\n",
    "print(bonus)"
   ]
  },
  {
   "cell_type": "code",
   "execution_count": 2,
   "id": "10ec887c",
   "metadata": {
    "slideshow": {
     "slide_type": "fragment"
    }
   },
   "outputs": [
    {
     "data": {
      "text/plain": [
       "[4320.0, 4890.0, 1920.0, 2520.0]"
      ]
     },
     "execution_count": 2,
     "metadata": {},
     "output_type": "execute_result"
    }
   ],
   "source": [
    "#List comprehension for above loop \n",
    "\n",
    "[x*0.06 for x in salaries]"
   ]
  },
  {
   "cell_type": "code",
   "execution_count": 3,
   "id": "c7889360",
   "metadata": {
    "slideshow": {
     "slide_type": "fragment"
    }
   },
   "outputs": [
    {
     "name": "stdout",
     "output_type": "stream",
     "text": [
      "['MR', 'MS', 'MRS', 'MISS']\n"
     ]
    }
   ],
   "source": [
    "#For loop to capitalize all greetings \n",
    "\n",
    "greetings = ['mr', 'ms', 'mrs', 'miss']\n",
    "\n",
    "caps = []\n",
    "\n",
    "for word in greetings:\n",
    "    caps.append(word.upper())\n",
    "    \n",
    "print(caps)"
   ]
  },
  {
   "cell_type": "code",
   "execution_count": 4,
   "id": "3a8b5748",
   "metadata": {
    "slideshow": {
     "slide_type": "fragment"
    }
   },
   "outputs": [
    {
     "data": {
      "text/plain": [
       "['MR', 'MS', 'MRS', 'MISS']"
      ]
     },
     "execution_count": 4,
     "metadata": {},
     "output_type": "execute_result"
    }
   ],
   "source": [
    "#List Comprehension \n",
    "\n",
    "[word.upper() for word in greetings]"
   ]
  },
  {
   "cell_type": "code",
   "execution_count": 5,
   "id": "30c5d8c2",
   "metadata": {
    "slideshow": {
     "slide_type": "fragment"
    }
   },
   "outputs": [
    {
     "name": "stdout",
     "output_type": "stream",
     "text": [
      "[4, 16]\n"
     ]
    }
   ],
   "source": [
    "#For loop to square number only if it is even\n",
    "\n",
    "nums = [1, 2, 3, 4]\n",
    "\n",
    "squares = []\n",
    "\n",
    "for num in nums:\n",
    "    if num%2 == 0:\n",
    "        squares.append(num**2)\n",
    "        \n",
    "print(squares)"
   ]
  },
  {
   "cell_type": "code",
   "execution_count": 6,
   "id": "2434c2b2",
   "metadata": {
    "slideshow": {
     "slide_type": "fragment"
    }
   },
   "outputs": [
    {
     "data": {
      "text/plain": [
       "[4, 16]"
      ]
     },
     "execution_count": 6,
     "metadata": {},
     "output_type": "execute_result"
    }
   ],
   "source": [
    "#List Comprehension \n",
    "\n",
    "[num**2 for num in nums if num%2 == 0]"
   ]
  },
  {
   "cell_type": "markdown",
   "id": "bae3ed67",
   "metadata": {
    "slideshow": {
     "slide_type": "slide"
    }
   },
   "source": [
    "## Summary \n",
    "\n",
    "- List comprehensions can simplify for loops\n",
    "- List comprehensions are at times faster than for loops"
   ]
  },
  {
   "cell_type": "markdown",
   "id": "0afd8dcd",
   "metadata": {
    "slideshow": {
     "slide_type": "slide"
    }
   },
   "source": [
    "<h1><center>The End</center></h1>\n",
    "<h2><center>@LearningwithJelly</center></h2>"
   ]
  },
  {
   "cell_type": "code",
   "execution_count": null,
   "id": "59b2964b",
   "metadata": {
    "slideshow": {
     "slide_type": "skip"
    }
   },
   "outputs": [],
   "source": [
    "from traitlets.config.manager import BaseJSONConfigManager\n",
    "from pathlib import Path\n",
    "path = Path.home() / \".jupyter\" / \"nbconfig\"\n",
    "cm = BaseJSONConfigManager(config_dir=str(path))\n",
    "cm.update(\n",
    "    \"rise\",\n",
    "    {\n",
    "        \"theme\": \"white\",\n",
    "        \"transition\": \"fade\",\n",
    "        \"start_slideshow_at\": \"selected\",\n",
    "        \"footer\": \"  <h6>Learning with Jelly</h6>\",\n",
    "        \"header\": \"  <h3>Boolean Data Types</h3>\",\n",
    "        \"width\":  \"90%\",\n",
    "        \"height\": \"110%\",\n",
    "        \"enable_chalkboard\": True\n",
    "     }\n",
    ")"
   ]
  }
 ],
 "metadata": {
  "celltoolbar": "Slideshow",
  "kernelspec": {
   "display_name": "Python 3",
   "language": "python",
   "name": "python3"
  },
  "language_info": {
   "codemirror_mode": {
    "name": "ipython",
    "version": 3
   },
   "file_extension": ".py",
   "mimetype": "text/x-python",
   "name": "python",
   "nbconvert_exporter": "python",
   "pygments_lexer": "ipython3",
   "version": "3.8.8"
  }
 },
 "nbformat": 4,
 "nbformat_minor": 5
}
