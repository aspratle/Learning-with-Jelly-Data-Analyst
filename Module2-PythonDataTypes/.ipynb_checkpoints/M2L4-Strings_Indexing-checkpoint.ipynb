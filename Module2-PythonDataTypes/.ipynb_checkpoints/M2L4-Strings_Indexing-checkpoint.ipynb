{
 "cells": [
  {
   "cell_type": "markdown",
   "id": "b4cd1bc1",
   "metadata": {
    "slideshow": {
     "slide_type": "slide"
    }
   },
   "source": [
    "<h1><center>Python Variables - Indexing Strings</center></h1>\n",
    "<center><img src=\"images/Strings.png\"width=\"600\", height=\"600\"></center>\n",
    "\n",
    "###### [Source: @LearningwithJelly]\n",
    "\n"
   ]
  },
  {
   "cell_type": "markdown",
   "id": "5bbef502",
   "metadata": {
    "slideshow": {
     "slide_type": "slide"
    }
   },
   "source": [
    "## Agenda\n",
    "\n",
    "- Define a Python **collection**\n",
    "- Define Indexing \n",
    "- Practice Indexing Strings and use **slicing**\n",
    "- Know the **.index()** method\n"
   ]
  },
  {
   "cell_type": "markdown",
   "id": "e60d316d",
   "metadata": {
    "cell_style": "center",
    "slideshow": {
     "slide_type": "slide"
    }
   },
   "source": [
    "## Collections in Python\n",
    "\n",
    "- Containers for storing data - smaller individual pieces \n",
    "- Examples are strings (collection of characters), lists, dictionaries, arrays, etc. \n",
    "- Collections can be **indexed** \n"
   ]
  },
  {
   "cell_type": "markdown",
   "id": "a3014ee6",
   "metadata": {
    "slideshow": {
     "slide_type": "slide"
    }
   },
   "source": [
    "## Indexing \n",
    "\n",
    "- Indexing finds the position of an element in a collection \n",
    "    - You can call the number of the position you want surrounded by brackets `[]` next to the variable name  \n",
    "- Indexing is sometimes paired with **slicing** to take out a group of elements from a collection \n",
    "- **Indexing starts at zero (0)**\n",
    "\n",
    "Index the string `\"Winnie the Pooh\"`"
   ]
  },
  {
   "cell_type": "code",
   "execution_count": null,
   "id": "c8996bfb",
   "metadata": {
    "slideshow": {
     "slide_type": "fragment"
    }
   },
   "outputs": [],
   "source": [
    "#Find the element of the first index in the string below \n",
    "\n",
    "name = \"Winnie the Pooh\"\n",
    "\n",
    "name[1]"
   ]
  },
  {
   "cell_type": "code",
   "execution_count": null,
   "id": "9422a29c",
   "metadata": {
    "slideshow": {
     "slide_type": "fragment"
    }
   },
   "outputs": [],
   "source": [
    "#Find the 7th element -- spaces count!\n",
    "\n",
    "name[7]"
   ]
  },
  {
   "cell_type": "markdown",
   "id": "8bf53dba",
   "metadata": {
    "slideshow": {
     "slide_type": "slide"
    }
   },
   "source": [
    "You can also do negative indexing (start counting from the end of the string) \n",
    "\n",
    "Get the `-2` index of the name variable "
   ]
  },
  {
   "cell_type": "code",
   "execution_count": null,
   "id": "3dabb369",
   "metadata": {
    "slideshow": {
     "slide_type": "fragment"
    }
   },
   "outputs": [],
   "source": [
    "name[-2]"
   ]
  },
  {
   "cell_type": "markdown",
   "id": "a3c4c885",
   "metadata": {
    "slideshow": {
     "slide_type": "slide"
    }
   },
   "source": [
    "Now start **slicing** in slicing you want to call the index you want to start with then **one pass the index you want to end on** (it's up to but not including your second number)\n",
    "\n",
    "Here is an example -- extract `jane` from the **string** below"
   ]
  },
  {
   "cell_type": "code",
   "execution_count": null,
   "id": "2a1140be",
   "metadata": {
    "slideshow": {
     "slide_type": "fragment"
    }
   },
   "outputs": [],
   "source": [
    "email = 'janedoe@gmail.com'\n",
    "\n",
    "email[0:4]"
   ]
  },
  {
   "cell_type": "code",
   "execution_count": null,
   "id": "440f489f",
   "metadata": {
    "slideshow": {
     "slide_type": "fragment"
    }
   },
   "outputs": [],
   "source": [
    "#Now extract janedoe -- you want to keep the entire username for your analysis \n",
    "\n"
   ]
  },
  {
   "cell_type": "markdown",
   "id": "801eb04e",
   "metadata": {
    "slideshow": {
     "slide_type": "slide"
    }
   },
   "source": [
    "## Index Method\n",
    "\n",
    "The `.index()` can be added at the end of your variable to find a specific character.  It will always **return the number of the position of when the character was encountered first** (reading from left to right).  It is **case-sensitive** \n",
    "\n",
    "Use the method to find the letter `P` in the `name` var below"
   ]
  },
  {
   "cell_type": "code",
   "execution_count": null,
   "id": "0b061a16",
   "metadata": {
    "slideshow": {
     "slide_type": "fragment"
    }
   },
   "outputs": [],
   "source": [
    "name = 'Winnie the Pooh'\n",
    "name.index('P')"
   ]
  },
  {
   "cell_type": "code",
   "execution_count": null,
   "id": "916e73fb",
   "metadata": {
    "slideshow": {
     "slide_type": "fragment"
    }
   },
   "outputs": [],
   "source": [
    "#Now use it to find when it encounters the letter `n` for the first time\n",
    "\n"
   ]
  },
  {
   "cell_type": "markdown",
   "id": "bae3ed67",
   "metadata": {
    "slideshow": {
     "slide_type": "slide"
    }
   },
   "source": [
    "## Summary \n",
    "\n",
    "- Collections are groups of elements stored in a container \n",
    "- Strings are examples of collections and thus can be **indexed**\n",
    "- Slicing extracts a group of elements from a collection (characters if you are talking about strings) \n",
    "- The `.index()` method returns the numbered position of a specified element "
   ]
  },
  {
   "cell_type": "markdown",
   "id": "0afd8dcd",
   "metadata": {
    "slideshow": {
     "slide_type": "slide"
    }
   },
   "source": [
    "<h1><center>The End</center></h1>\n",
    "<h2><center>@LearningwithJelly</center></h2>"
   ]
  },
  {
   "cell_type": "code",
   "execution_count": 1,
   "id": "59b2964b",
   "metadata": {
    "slideshow": {
     "slide_type": "skip"
    }
   },
   "outputs": [
    {
     "data": {
      "text/plain": [
       "{'theme': 'white',\n",
       " 'transition': 'fade',\n",
       " 'start_slideshow_at': 'selected',\n",
       " 'autolaunch': False,\n",
       " 'width': '90%',\n",
       " 'height': '110%',\n",
       " 'header': '  <h3>Indexing Strings</h3>',\n",
       " 'footer': '  <h6>Learning with Jelly</h6>',\n",
       " 'scroll': True,\n",
       " 'enable_chalkboard': True,\n",
       " 'slideNumber': True,\n",
       " 'center': False,\n",
       " 'controlsLayout': 'edges',\n",
       " 'hash': True}"
      ]
     },
     "execution_count": 1,
     "metadata": {},
     "output_type": "execute_result"
    }
   ],
   "source": [
    "from traitlets.config.manager import BaseJSONConfigManager\n",
    "from pathlib import Path\n",
    "path = Path.home() / \".jupyter\" / \"nbconfig\"\n",
    "cm = BaseJSONConfigManager(config_dir=str(path))\n",
    "cm.update(\n",
    "    \"rise\",\n",
    "    {\n",
    "        \"theme\": \"white\",\n",
    "        \"transition\": \"fade\",\n",
    "        \"start_slideshow_at\": \"selected\",\n",
    "        \"footer\": \"  <h6>Learning with Jelly</h6>\",\n",
    "        \"header\": \"  <h3>Indexing Strings</h3>\",\n",
    "        \"width\":  \"90%\",\n",
    "        \"height\": \"110%\",\n",
    "        \"enable_chalkboard\": True\n",
    "     }\n",
    ")"
   ]
  },
  {
   "cell_type": "code",
   "execution_count": null,
   "id": "b12963e7",
   "metadata": {},
   "outputs": [],
   "source": []
  }
 ],
 "metadata": {
  "celltoolbar": "Slideshow",
  "kernelspec": {
   "display_name": "Python 3",
   "language": "python",
   "name": "python3"
  },
  "language_info": {
   "codemirror_mode": {
    "name": "ipython",
    "version": 3
   },
   "file_extension": ".py",
   "mimetype": "text/x-python",
   "name": "python",
   "nbconvert_exporter": "python",
   "pygments_lexer": "ipython3",
   "version": "3.8.8"
  }
 },
 "nbformat": 4,
 "nbformat_minor": 5
}
