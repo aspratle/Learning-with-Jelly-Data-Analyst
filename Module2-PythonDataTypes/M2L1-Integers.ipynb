{
 "cells": [
  {
   "cell_type": "markdown",
   "id": "b4cd1bc1",
   "metadata": {
    "slideshow": {
     "slide_type": "slide"
    }
   },
   "source": [
    "<h1><center>Python Variables - Integers</center></h1>\n",
    "<center><img src=\"https://cdn.tutors.com/assets/images/content/tutors-integers-examples-thumb.jpg\"/, width=\"400\", height=\"600\"></center>\n",
    "\n",
    "###### [Source: Tutors.com](https://tutors.com/lesson/integers-definition-examples)\n",
    "\n"
   ]
  },
  {
   "cell_type": "markdown",
   "id": "5bbef502",
   "metadata": {
    "slideshow": {
     "slide_type": "slide"
    }
   },
   "source": [
    "## Agenda\n",
    "\n",
    "- List Python Data Types \n",
    "- Importance of Integers \n",
    "- Assign integers to variables "
   ]
  },
  {
   "cell_type": "markdown",
   "id": "e60d316d",
   "metadata": {
    "cell_style": "center",
    "slideshow": {
     "slide_type": "slide"
    }
   },
   "source": [
    "## Python Data Types \n",
    "\n",
    "- **Num**:  Integers (whole neg/pos numbers -- includes zero)\n",
    "- **Num**:  Floats (decimals)\n",
    "- **Text**: Strings (surrounded by single ('') or (\"\") quotes) \n",
    "- Boolean (True/False or 0/1)\n",
    "\n",
    "- Sets (SQL) \n",
    "- Sequences (Lists, Tuples) \n",
    "- Mapping (Dictionaries) "
   ]
  },
  {
   "cell_type": "markdown",
   "id": "4c90bea1",
   "metadata": {
    "cell_style": "center",
    "slideshow": {
     "slide_type": "slide"
    }
   },
   "source": [
    "## Examples of Data Stored as Integers\n",
    "\n",
    "\n",
    "Integers\n",
    "- Number of Bedrooms \n",
    "- Number of Shopping Trips \n",
    "- Number of Calls to a Call Center \n",
    "- Number of drives driven for Ride Share"
   ]
  },
  {
   "cell_type": "markdown",
   "id": "c182632f",
   "metadata": {
    "cell_style": "center",
    "slideshow": {
     "slide_type": "slide"
    }
   },
   "source": [
    "**Assign Variables (aka Objects) to integers using the assignment operator `=`**\n",
    "\n",
    "*Note: `==` is a comparison operator when we want to check if a value is 'equal to' another value*"
   ]
  },
  {
   "cell_type": "code",
   "execution_count": null,
   "id": "1e063600",
   "metadata": {
    "slideshow": {
     "slide_type": "fragment"
    }
   },
   "outputs": [],
   "source": [
    "#Assign x to the integer 15\n",
    "\n",
    "x = None \n"
   ]
  },
  {
   "cell_type": "code",
   "execution_count": null,
   "id": "212e7ce7",
   "metadata": {
    "slideshow": {
     "slide_type": "fragment"
    }
   },
   "outputs": [],
   "source": [
    "#Can also use the print if we wanted to 'print' the value out\n",
    "\n",
    "y = None\n",
    "print(y)"
   ]
  },
  {
   "cell_type": "code",
   "execution_count": null,
   "id": "fa2278e9",
   "metadata": {
    "slideshow": {
     "slide_type": "fragment"
    }
   },
   "outputs": [],
   "source": [
    "#Can assign two values on the same line\n",
    "\n",
    "x,y = None\n",
    "print(x,y)"
   ]
  },
  {
   "cell_type": "markdown",
   "id": "bae3ed67",
   "metadata": {
    "slideshow": {
     "slide_type": "slide"
    }
   },
   "source": [
    "## Summary \n",
    "\n",
    "- Variables are objects in Python (everything is but you will learn that later) \n",
    "- Integers are whole numbers (positive or negative and includes zero) \n",
    "- You can assign variables to a value using the assignment operator (*=*) "
   ]
  },
  {
   "cell_type": "markdown",
   "id": "0afd8dcd",
   "metadata": {
    "slideshow": {
     "slide_type": "slide"
    }
   },
   "source": [
    "<h1><center>The End</center></h1>\n",
    "<h2><center>@LearningwithJelly</center></h2>"
   ]
  },
  {
   "cell_type": "code",
   "execution_count": 1,
   "id": "59b2964b",
   "metadata": {
    "slideshow": {
     "slide_type": "skip"
    }
   },
   "outputs": [
    {
     "data": {
      "text/plain": [
       "{'theme': 'white',\n",
       " 'transition': 'fade',\n",
       " 'start_slideshow_at': 'selected',\n",
       " 'autolaunch': False,\n",
       " 'width': '90%',\n",
       " 'height': '110%',\n",
       " 'header': '  <h3>Python Variables - Integers</h3>',\n",
       " 'footer': '  <h6>Learning with Jelly</h6>',\n",
       " 'scroll': True,\n",
       " 'enable_chalkboard': True,\n",
       " 'slideNumber': True,\n",
       " 'center': False,\n",
       " 'controlsLayout': 'edges',\n",
       " 'hash': True}"
      ]
     },
     "execution_count": 1,
     "metadata": {},
     "output_type": "execute_result"
    }
   ],
   "source": [
    "from traitlets.config.manager import BaseJSONConfigManager\n",
    "from pathlib import Path\n",
    "path = Path.home() / \".jupyter\" / \"nbconfig\"\n",
    "cm = BaseJSONConfigManager(config_dir=str(path))\n",
    "cm.update(\n",
    "    \"rise\",\n",
    "    {\n",
    "        \"theme\": \"white\",\n",
    "        \"transition\": \"fade\",\n",
    "        \"start_slideshow_at\": \"selected\",\n",
    "        \"footer\": \"  <h6>Learning with Jelly</h6>\",\n",
    "        \"header\": \"  <h3>Python Variables - Integers</h3>\",\n",
    "        \"width\":  \"90%\",\n",
    "        \"height\": \"110%\",\n",
    "        \"enable_chalkboard\": True\n",
    "     }\n",
    ")"
   ]
  }
 ],
 "metadata": {
  "celltoolbar": "Slideshow",
  "kernelspec": {
   "display_name": "Python 3",
   "language": "python",
   "name": "python3"
  },
  "language_info": {
   "codemirror_mode": {
    "name": "ipython",
    "version": 3
   },
   "file_extension": ".py",
   "mimetype": "text/x-python",
   "name": "python",
   "nbconvert_exporter": "python",
   "pygments_lexer": "ipython3",
   "version": "3.8.8"
  }
 },
 "nbformat": 4,
 "nbformat_minor": 5
}
