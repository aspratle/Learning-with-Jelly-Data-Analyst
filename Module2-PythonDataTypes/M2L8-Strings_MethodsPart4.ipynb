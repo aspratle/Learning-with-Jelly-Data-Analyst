{
 "cells": [
  {
   "cell_type": "markdown",
   "id": "b4cd1bc1",
   "metadata": {
    "slideshow": {
     "slide_type": "slide"
    }
   },
   "source": [
    "<h1><center>String - Methods (Part 4)</center></h1>\n",
    "<center><img src=\"https://ipcisco.com/wp-content/uploads/2021/03/python-string-methods-ipcisco.jpg\"width=\"400\", height=\"400\"></center>\n",
    "\n",
    "###### [Source: IPCisco](https://ipcisco.com/lesson/python-string-methods/)\n",
    "\n"
   ]
  },
  {
   "cell_type": "markdown",
   "id": "5bbef502",
   "metadata": {
    "slideshow": {
     "slide_type": "slide"
    }
   },
   "source": [
    "## Agenda\n",
    "\n",
    "- Recall the definition of a Method\n",
    "- Use `.lstrip()`, `.rstrip()`, and `.strip()` to remove blank space (or other chars)\n",
    "- Stripping whitespace is important for **data cleaning** or **data standardization**"
   ]
  },
  {
   "cell_type": "markdown",
   "id": "e60d316d",
   "metadata": {
    "cell_style": "center",
    "slideshow": {
     "slide_type": "slide"
    }
   },
   "source": [
    "## Strings\n",
    "\n",
    "- Strings are a text data type that is surrounded by single `''` or double quotes `\"\"`\n"
   ]
  },
  {
   "cell_type": "markdown",
   "id": "fdb514f4",
   "metadata": {
    "slideshow": {
     "slide_type": "slide"
    }
   },
   "source": [
    "## What is a METHOD?\n",
    "\n",
    "- An `action` the `object` does\n",
    "- Usually has parentheses after it\n",
    "- What is an object? (EVERYTHING -- more on this later) \n",
    "- An attribute is a `characteristic` or `property` of an object (more on this soon) \n",
    "\n",
    "![Basketball-OOP](images/basketball.png)"
   ]
  },
  {
   "cell_type": "markdown",
   "id": "8099f3e5",
   "metadata": {
    "slideshow": {
     "slide_type": "slide"
    }
   },
   "source": [
    "## Using `.lstrip()`, `.rstrip()`, and `.strip()` to remove blank space\n",
    "\n",
    "- `.lstrip()` removes characters from the left (default is blank space)\n",
    "- `.rstrip()` removes characters from the right (default is blank space)\n",
    "- `.strip()` removes characters from both the left and right (default is blank space)\n"
   ]
  },
  {
   "cell_type": "code",
   "execution_count": 1,
   "id": "be464a78",
   "metadata": {
    "slideshow": {
     "slide_type": "fragment"
    }
   },
   "outputs": [
    {
     "data": {
      "text/plain": [
       "'BloodPressure'"
      ]
     },
     "execution_count": 1,
     "metadata": {},
     "output_type": "execute_result"
    }
   ],
   "source": [
    "variable = '   BloodPressure'\n",
    "variable.lstrip()"
   ]
  },
  {
   "cell_type": "code",
   "execution_count": null,
   "id": "1f29edd1",
   "metadata": {
    "slideshow": {
     "slide_type": "fragment"
    }
   },
   "outputs": [],
   "source": [
    "#Let's strip blank spaces from the right\n",
    "\n",
    "variable2 = 'Insulin    '\n",
    "\n",
    "\n"
   ]
  },
  {
   "cell_type": "code",
   "execution_count": null,
   "id": "7c968326",
   "metadata": {
    "slideshow": {
     "slide_type": "fragment"
    }
   },
   "outputs": [],
   "source": [
    "#Now both sides...\n",
    "\n",
    "variable3 = \"    Height   \"\n",
    "variable3_new = None"
   ]
  },
  {
   "cell_type": "code",
   "execution_count": 2,
   "id": "bb4398fa",
   "metadata": {
    "slideshow": {
     "slide_type": "fragment"
    }
   },
   "outputs": [
    {
     "data": {
      "text/plain": [
       "'ID'"
      ]
     },
     "execution_count": 2,
     "metadata": {},
     "output_type": "execute_result"
    }
   ],
   "source": [
    "#We can also strip characters other than blank space \n",
    "\n",
    "variable4 = \"00000ID00000\"\n",
    "variable4.strip('0')"
   ]
  },
  {
   "cell_type": "markdown",
   "id": "bae3ed67",
   "metadata": {
    "slideshow": {
     "slide_type": "slide"
    }
   },
   "source": [
    "## Summary \n",
    "\n",
    "- Everything in Python is an Object \n",
    "- Each object has its own `methods` and `attributes`\n",
    "- Use `.strip()` to remove characters/spaces this is helpful in data cleaning and standardization "
   ]
  },
  {
   "cell_type": "markdown",
   "id": "0afd8dcd",
   "metadata": {
    "slideshow": {
     "slide_type": "slide"
    }
   },
   "source": [
    "<h1><center>The End</center></h1>\n",
    "<h2><center>@LearningwithJelly</center></h2>"
   ]
  },
  {
   "cell_type": "code",
   "execution_count": 3,
   "id": "59b2964b",
   "metadata": {
    "slideshow": {
     "slide_type": "skip"
    }
   },
   "outputs": [
    {
     "data": {
      "text/plain": [
       "{'theme': 'white',\n",
       " 'transition': 'fade',\n",
       " 'start_slideshow_at': 'selected',\n",
       " 'autolaunch': False,\n",
       " 'width': '90%',\n",
       " 'height': '110%',\n",
       " 'header': '  <h3>String Methods Part 4</h3>',\n",
       " 'footer': '  <h6>Learning with Jelly</h6>',\n",
       " 'scroll': True,\n",
       " 'enable_chalkboard': True,\n",
       " 'slideNumber': True,\n",
       " 'center': False,\n",
       " 'controlsLayout': 'edges',\n",
       " 'hash': True}"
      ]
     },
     "execution_count": 3,
     "metadata": {},
     "output_type": "execute_result"
    }
   ],
   "source": [
    "from traitlets.config.manager import BaseJSONConfigManager\n",
    "from pathlib import Path\n",
    "path = Path.home() / \".jupyter\" / \"nbconfig\"\n",
    "cm = BaseJSONConfigManager(config_dir=str(path))\n",
    "cm.update(\n",
    "    \"rise\",\n",
    "    {\n",
    "        \"theme\": \"white\",\n",
    "        \"transition\": \"fade\",\n",
    "        \"start_slideshow_at\": \"selected\",\n",
    "        \"footer\": \"  <h6>Learning with Jelly</h6>\",\n",
    "        \"header\": \"  <h3>String Methods Part 4</h3>\",\n",
    "        \"width\":  \"90%\",\n",
    "        \"height\": \"110%\",\n",
    "        \"enable_chalkboard\": True\n",
    "     }\n",
    ")"
   ]
  }
 ],
 "metadata": {
  "celltoolbar": "Slideshow",
  "kernelspec": {
   "display_name": "Python 3",
   "language": "python",
   "name": "python3"
  },
  "language_info": {
   "codemirror_mode": {
    "name": "ipython",
    "version": 3
   },
   "file_extension": ".py",
   "mimetype": "text/x-python",
   "name": "python",
   "nbconvert_exporter": "python",
   "pygments_lexer": "ipython3",
   "version": "3.8.8"
  }
 },
 "nbformat": 4,
 "nbformat_minor": 5
}
