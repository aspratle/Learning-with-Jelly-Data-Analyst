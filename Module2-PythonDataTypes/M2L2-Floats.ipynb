{
 "cells": [
  {
   "cell_type": "markdown",
   "id": "b4cd1bc1",
   "metadata": {
    "slideshow": {
     "slide_type": "slide"
    }
   },
   "source": [
    "<h1><center>Python Variables - Floats</center></h1>\n",
    "<center><img src=\"https://python.land/wp-content/uploads/2022/12/Python-Float-jpg.webp\"/, width=\"400\", height=\"600\"></center>\n",
    "\n",
    "###### [Source: Python.Land](https://python.land/python-data-types/python-float)\n",
    "\n"
   ]
  },
  {
   "cell_type": "markdown",
   "id": "5bbef502",
   "metadata": {
    "slideshow": {
     "slide_type": "slide"
    }
   },
   "source": [
    "## Agenda\n",
    "\n",
    "- Define a Float \n",
    "- Examples of Data Stored as Floats\n",
    "- Assign Variables to Floats in Python"
   ]
  },
  {
   "cell_type": "markdown",
   "id": "e60d316d",
   "metadata": {
    "cell_style": "center",
    "slideshow": {
     "slide_type": "slide"
    }
   },
   "source": [
    "## Flashback - Recall Python Data Types \n",
    "\n",
    "- **Num**:  Integers (whole neg/pos numbers -- includes zero)\n",
    "- **Num**:  Floats (decimals)\n",
    "- **Text**: Strings (surrounded by single ('') or (\"\") quotes) \n",
    "- Boolean (True/False or 0/1)\n",
    "\n",
    "- Sets (SQL) \n",
    "- Sequences (Lists, Tuples) \n",
    "- Mapping (Dictionaries) "
   ]
  },
  {
   "cell_type": "markdown",
   "id": "4c90bea1",
   "metadata": {
    "cell_style": "center",
    "slideshow": {
     "slide_type": "slide"
    }
   },
   "source": [
    "## Examples of Data Stored as Floats\n",
    "\n",
    "Examples of data variables that may be stored as Floats!\n",
    "\n",
    "- Weight (i.e 120.9 lbs)\n",
    "- Temperature (i.e. 54.3 F)\n",
    "- Income (i.e. 45.2k) "
   ]
  },
  {
   "cell_type": "markdown",
   "id": "c182632f",
   "metadata": {
    "cell_style": "center",
    "slideshow": {
     "slide_type": "slide"
    }
   },
   "source": [
    "**Remember you assign variables (objects) by using the `=` sign**\n",
    "\n",
    "Assign a variable `num` and set it equal to the float 10.5 "
   ]
  },
  {
   "cell_type": "code",
   "execution_count": 1,
   "id": "1e063600",
   "metadata": {
    "slideshow": {
     "slide_type": "fragment"
    }
   },
   "outputs": [
    {
     "name": "stdout",
     "output_type": "stream",
     "text": [
      "10.5\n"
     ]
    }
   ],
   "source": [
    "#Assign num to 10.5\n",
    "\n",
    "num = 10.5\n",
    "print(num)\n"
   ]
  },
  {
   "cell_type": "markdown",
   "id": "d49f9bde",
   "metadata": {
    "slideshow": {
     "slide_type": "slide"
    }
   },
   "source": [
    "## Introducing the `type()` built-in function \n",
    "\n",
    "Python has the built-in function, `type()` that allows you to check the variable's type."
   ]
  },
  {
   "cell_type": "code",
   "execution_count": 3,
   "id": "fa2278e9",
   "metadata": {
    "slideshow": {
     "slide_type": "fragment"
    }
   },
   "outputs": [
    {
     "data": {
      "text/plain": [
       "int"
      ]
     },
     "execution_count": 3,
     "metadata": {},
     "output_type": "execute_result"
    }
   ],
   "source": [
    "#Call the type function on the variable `num`\n",
    "\n",
    "type(num)\n",
    "\n",
    "x = 5\n",
    "\n",
    "type(x)"
   ]
  },
  {
   "cell_type": "markdown",
   "id": "bae3ed67",
   "metadata": {
    "slideshow": {
     "slide_type": "slide"
    }
   },
   "source": [
    "## Summary \n",
    "\n",
    "- Variables are objects in Python (everything is but you will learn that later) \n",
    "- Floats are floating point numbers mostly decimals  \n",
    "- The `type()` function prints out the variable type (will be important in exploring dataframes) "
   ]
  },
  {
   "cell_type": "markdown",
   "id": "0afd8dcd",
   "metadata": {
    "slideshow": {
     "slide_type": "slide"
    }
   },
   "source": [
    "<h1><center>The End</center></h1>\n",
    "<h2><center>@LearningwithJelly</center></h2>"
   ]
  },
  {
   "cell_type": "code",
   "execution_count": 1,
   "id": "59b2964b",
   "metadata": {
    "slideshow": {
     "slide_type": "skip"
    }
   },
   "outputs": [
    {
     "data": {
      "text/plain": [
       "{'theme': 'white',\n",
       " 'transition': 'fade',\n",
       " 'start_slideshow_at': 'selected',\n",
       " 'autolaunch': False,\n",
       " 'width': '90%',\n",
       " 'height': '110%',\n",
       " 'header': '  <h3>Python Variables - Floats</h3>',\n",
       " 'footer': '  <h6>Learning with Jelly</h6>',\n",
       " 'scroll': True,\n",
       " 'enable_chalkboard': True,\n",
       " 'slideNumber': True,\n",
       " 'center': False,\n",
       " 'controlsLayout': 'edges',\n",
       " 'hash': True}"
      ]
     },
     "execution_count": 1,
     "metadata": {},
     "output_type": "execute_result"
    }
   ],
   "source": [
    "from traitlets.config.manager import BaseJSONConfigManager\n",
    "from pathlib import Path\n",
    "path = Path.home() / \".jupyter\" / \"nbconfig\"\n",
    "cm = BaseJSONConfigManager(config_dir=str(path))\n",
    "cm.update(\n",
    "    \"rise\",\n",
    "    {\n",
    "        \"theme\": \"white\",\n",
    "        \"transition\": \"fade\",\n",
    "        \"start_slideshow_at\": \"selected\",\n",
    "        \"footer\": \"  <h6>Learning with Jelly</h6>\",\n",
    "        \"header\": \"  <h3>Python Variables - Floats</h3>\",\n",
    "        \"width\":  \"90%\",\n",
    "        \"height\": \"110%\",\n",
    "        \"enable_chalkboard\": True\n",
    "     }\n",
    ")"
   ]
  },
  {
   "cell_type": "code",
   "execution_count": null,
   "id": "068b053b",
   "metadata": {},
   "outputs": [],
   "source": []
  }
 ],
 "metadata": {
  "celltoolbar": "Slideshow",
  "kernelspec": {
   "display_name": "Python 3",
   "language": "python",
   "name": "python3"
  },
  "language_info": {
   "codemirror_mode": {
    "name": "ipython",
    "version": 3
   },
   "file_extension": ".py",
   "mimetype": "text/x-python",
   "name": "python",
   "nbconvert_exporter": "python",
   "pygments_lexer": "ipython3",
   "version": "3.8.8"
  }
 },
 "nbformat": 4,
 "nbformat_minor": 5
}
