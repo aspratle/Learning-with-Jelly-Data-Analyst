{
 "cells": [
  {
   "cell_type": "markdown",
   "id": "5e72f444",
   "metadata": {},
   "source": [
    "## This is a sample notebook to load into Google Colab"
   ]
  },
  {
   "cell_type": "code",
   "execution_count": 2,
   "id": "803079a4",
   "metadata": {},
   "outputs": [
    {
     "data": {
      "text/plain": [
       "6"
      ]
     },
     "execution_count": 2,
     "metadata": {},
     "output_type": "execute_result"
    }
   ],
   "source": [
    "#This is a starting code cell \n",
    "\n",
    "x = 5 \n",
    "x + 1"
   ]
  },
  {
   "cell_type": "markdown",
   "id": "95d315ed",
   "metadata": {},
   "source": [
    "This is a sample markdown cell.  Double click inside this cell to change the text. "
   ]
  }
 ],
 "metadata": {
  "kernelspec": {
   "display_name": "Python 3",
   "language": "python",
   "name": "python3"
  },
  "language_info": {
   "codemirror_mode": {
    "name": "ipython",
    "version": 3
   },
   "file_extension": ".py",
   "mimetype": "text/x-python",
   "name": "python",
   "nbconvert_exporter": "python",
   "pygments_lexer": "ipython3",
   "version": "3.8.8"
  }
 },
 "nbformat": 4,
 "nbformat_minor": 5
}
